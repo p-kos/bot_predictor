{
 "cells": [
  {
   "cell_type": "code",
   "execution_count": null,
   "id": "e57f560e",
   "metadata": {},
   "outputs": [],
   "source": []
  },
  {
   "cell_type": "code",
   "execution_count": 1,
   "id": "f4b95318",
   "metadata": {},
   "outputs": [
    {
     "name": "stderr",
     "output_type": "stream",
     "text": [
      "2025-06-06 14:04:06.229507: I tensorflow/core/platform/cpu_feature_guard.cc:210] This TensorFlow binary is optimized to use available CPU instructions in performance-critical operations.\n",
      "To enable the following instructions: AVX2 FMA, in other operations, rebuild TensorFlow with the appropriate compiler flags.\n"
     ]
    }
   ],
   "source": [
    "import os\n",
    "import numpy as np\n",
    "import yfinance as yf\n",
    "from flask import Flask, jsonify, request\n",
    "from binance.client import Client\n",
    "from dotenv import load_dotenv\n",
    "from sklearn.preprocessing import MinMaxScaler\n",
    "from tensorflow.keras.models import Sequential\n",
    "from tensorflow.keras.layers import Dense, LSTM"
   ]
  },
  {
   "cell_type": "code",
   "execution_count": 12,
   "id": "44fef8cb",
   "metadata": {},
   "outputs": [],
   "source": [
    "api_key = \"dPhWMXJcC98Oelgl6KbaGgiL5T5PL0zgrEESP8g0oq656u3z6aOCrOkMz0SQpgWT\"\n",
    "api_secret = \"JZEk6FSNdEMnTv8r7N4jcmn0JllUdA7D4yVtIakAV4Myy0qyciy5Q2zO8yLFPami\"\n",
    "symbol = \"BTCUSDT\"\n",
    "LOOKBACK = 60\n",
    "client = Client(api_key, api_secret)"
   ]
  },
  {
   "cell_type": "code",
   "execution_count": 5,
   "id": "102ba4b9",
   "metadata": {},
   "outputs": [
    {
     "name": "stdout",
     "output_type": "stream",
     "text": [
      "YF.download() has changed argument auto_adjust default to True\n"
     ]
    },
    {
     "name": "stderr",
     "output_type": "stream",
     "text": [
      "[*********************100%***********************]  1 of 1 completed\n"
     ]
    },
    {
     "data": {
      "text/html": [
       "<div>\n",
       "<style scoped>\n",
       "    .dataframe tbody tr th:only-of-type {\n",
       "        vertical-align: middle;\n",
       "    }\n",
       "\n",
       "    .dataframe tbody tr th {\n",
       "        vertical-align: top;\n",
       "    }\n",
       "\n",
       "    .dataframe thead tr th {\n",
       "        text-align: left;\n",
       "    }\n",
       "\n",
       "    .dataframe thead tr:last-of-type th {\n",
       "        text-align: right;\n",
       "    }\n",
       "</style>\n",
       "<table border=\"1\" class=\"dataframe\">\n",
       "  <thead>\n",
       "    <tr>\n",
       "      <th>Price</th>\n",
       "      <th>Close</th>\n",
       "    </tr>\n",
       "    <tr>\n",
       "      <th>Ticker</th>\n",
       "      <th>BTC-USD</th>\n",
       "    </tr>\n",
       "    <tr>\n",
       "      <th>Date</th>\n",
       "      <th></th>\n",
       "    </tr>\n",
       "  </thead>\n",
       "  <tbody>\n",
       "    <tr>\n",
       "      <th>2024-06-06</th>\n",
       "      <td>70757.164062</td>\n",
       "    </tr>\n",
       "    <tr>\n",
       "      <th>2024-06-07</th>\n",
       "      <td>69342.585938</td>\n",
       "    </tr>\n",
       "    <tr>\n",
       "      <th>2024-06-08</th>\n",
       "      <td>69305.773438</td>\n",
       "    </tr>\n",
       "    <tr>\n",
       "      <th>2024-06-09</th>\n",
       "      <td>69647.992188</td>\n",
       "    </tr>\n",
       "    <tr>\n",
       "      <th>2024-06-10</th>\n",
       "      <td>69512.281250</td>\n",
       "    </tr>\n",
       "  </tbody>\n",
       "</table>\n",
       "</div>"
      ],
      "text/plain": [
       "Price              Close\n",
       "Ticker           BTC-USD\n",
       "Date                    \n",
       "2024-06-06  70757.164062\n",
       "2024-06-07  69342.585938\n",
       "2024-06-08  69305.773438\n",
       "2024-06-09  69647.992188\n",
       "2024-06-10  69512.281250"
      ]
     },
     "execution_count": 5,
     "metadata": {},
     "output_type": "execute_result"
    }
   ],
   "source": [
    "ticker = symbol.replace(\"USDT\", \"-USD\")\n",
    "df = yf.download(ticker, period=\"1y\", interval=\"1d\")[['Close']]\n",
    "df.head()"
   ]
  },
  {
   "cell_type": "code",
   "execution_count": 11,
   "id": "2c5bbfdf",
   "metadata": {},
   "outputs": [
    {
     "name": "stderr",
     "output_type": "stream",
     "text": [
      "/Users/marco.zarate/repos/bot_predictor/.venv/lib/python3.11/site-packages/keras/src/layers/rnn/rnn.py:199: UserWarning: Do not pass an `input_shape`/`input_dim` argument to a layer. When using Sequential models, prefer using an `Input(shape)` object as the first layer in the model instead.\n",
      "  super().__init__(**kwargs)\n"
     ]
    },
    {
     "data": {
      "text/plain": [
       "<keras.src.callbacks.history.History at 0x154bc7090>"
      ]
     },
     "execution_count": 11,
     "metadata": {},
     "output_type": "execute_result"
    }
   ],
   "source": [
    "scaler = MinMaxScaler()\n",
    "scaled_data = scaler.fit_transform(df)\n",
    "\n",
    "X, y = [], []\n",
    "for i in range(LOOKBACK, len(scaled_data)):\n",
    "    X.append(scaled_data[i-LOOKBACK:i, 0])\n",
    "    y.append(scaled_data[i, 0])\n",
    "X, y = np.array(X), np.array(y)\n",
    "X = np.reshape(X, (X.shape[0], X.shape[1], 1))\n",
    "model = Sequential([\n",
    "    LSTM(50, return_sequences=True, input_shape=(X.shape[1], 1)),\n",
    "    LSTM(50),\n",
    "    Dense(1)\n",
    "])\n",
    "model.compile(optimizer='adam', loss='mean_squared_error')\n",
    "model.fit(X, y, epochs=5, batch_size=32, verbose=0)"
   ]
  },
  {
   "cell_type": "code",
   "execution_count": 19,
   "id": "89f49d43",
   "metadata": {},
   "outputs": [],
   "source": [
    "def generate_signal(current, predicted, threshold=0.005):\n",
    "    change = (predicted - current) / current\n",
    "    if change > threshold:\n",
    "        return \"BUY\"\n",
    "    elif change < -threshold:\n",
    "        return \"SELL\"\n",
    "    else:\n",
    "        return \"HOLD\""
   ]
  },
  {
   "cell_type": "code",
   "execution_count": 24,
   "id": "2e600fa7",
   "metadata": {},
   "outputs": [
    {
     "name": "stdout",
     "output_type": "stream",
     "text": [
      "104678.11\n",
      "\u001b[1m1/1\u001b[0m \u001b[32m━━━━━━━━━━━━━━━━━━━━\u001b[0m\u001b[37m\u001b[0m \u001b[1m0s\u001b[0m 199ms/step\n",
      "symbol BTCUSDT\n",
      "current_price 104678.11\n",
      "predicted_price 106176.71\n",
      "signal BUY\n"
     ]
    }
   ],
   "source": [
    "data = scaled_data\n",
    "price_info = client.get_symbol_ticker(symbol=symbol)\n",
    "current_price = float(price_info[\"price\"])\n",
    "print(current_price)\n",
    "last_60 = data[-LOOKBACK:]\n",
    "if last_60.shape != (LOOKBACK, 1):\n",
    "    last_60 = last_60.reshape((LOOKBACK, 1))\n",
    "# Ensure last_60 is shaped (LOOKBACK, 1)\n",
    "last_60 = data[-LOOKBACK:]\n",
    "if last_60.shape != (LOOKBACK, 1):\n",
    "    last_60 = last_60.reshape((LOOKBACK, 1))\n",
    "X_input = np.reshape(last_60, (1, LOOKBACK, 1))\n",
    "predicted_scaled = model.predict(X_input)\n",
    "# Ensure predicted_scaled is 2D for inverse_transform\n",
    "if predicted_scaled.ndim == 1:\n",
    "    predicted_scaled = predicted_scaled.reshape(-1, 1)\n",
    "predicted_price = scaler.inverse_transform(predicted_scaled)[0][0]\n",
    "\n",
    "signal = generate_signal(current_price, predicted_price)\n",
    "\n",
    "print(\"symbol\",symbol)\n",
    "print(\"current_price\", current_price)\n",
    "print(\"predicted_price\", predicted_price)\n",
    "print(\"signal\", signal)"
   ]
  },
  {
   "cell_type": "code",
   "execution_count": 29,
   "id": "d9117ead",
   "metadata": {},
   "outputs": [
    {
     "ename": "RuntimeError",
     "evalue": "Working outside of application context.\n\nThis typically means that you attempted to use functionality that needed\nthe current application. To solve this, set up an application context\nwith app.app_context(). See the documentation for more information.",
     "output_type": "error",
     "traceback": [
      "\u001b[31m---------------------------------------------------------------------------\u001b[39m",
      "\u001b[31mRuntimeError\u001b[39m                              Traceback (most recent call last)",
      "\u001b[36mCell\u001b[39m\u001b[36m \u001b[39m\u001b[32mIn[29]\u001b[39m\u001b[32m, line 1\u001b[39m\n\u001b[32m----> \u001b[39m\u001b[32m1\u001b[39m \u001b[43mjsonify\u001b[49m\u001b[43m(\u001b[49m\u001b[43m{\u001b[49m\n\u001b[32m      2\u001b[39m \u001b[43m    \u001b[49m\u001b[33;43m\"\u001b[39;49m\u001b[33;43msymbol\u001b[39;49m\u001b[33;43m\"\u001b[39;49m\u001b[43m:\u001b[49m\u001b[43m \u001b[49m\u001b[43msymbol\u001b[49m\u001b[43m,\u001b[49m\n\u001b[32m      3\u001b[39m \u001b[43m    \u001b[49m\u001b[33;43m\"\u001b[39;49m\u001b[33;43mcurrent_price\u001b[39;49m\u001b[33;43m\"\u001b[39;49m\u001b[43m:\u001b[49m\u001b[43m \u001b[49m\u001b[33;43mf\u001b[39;49m\u001b[33;43m\"\u001b[39;49m\u001b[38;5;132;43;01m{\u001b[39;49;00m\u001b[43mcurrent_price\u001b[49m\u001b[38;5;132;43;01m}\u001b[39;49;00m\u001b[33;43m\"\u001b[39;49m\u001b[43m,\u001b[49m\n\u001b[32m      4\u001b[39m \u001b[43m    \u001b[49m\u001b[33;43m\"\u001b[39;49m\u001b[33;43mpredicted_price\u001b[39;49m\u001b[33;43m\"\u001b[39;49m\u001b[43m:\u001b[49m\u001b[43m \u001b[49m\u001b[33;43mf\u001b[39;49m\u001b[33;43m\"\u001b[39;49m\u001b[38;5;132;43;01m{\u001b[39;49;00m\u001b[43mpredicted_price\u001b[49m\u001b[38;5;132;43;01m}\u001b[39;49;00m\u001b[33;43m\"\u001b[39;49m\u001b[43m,\u001b[49m\n\u001b[32m      5\u001b[39m \u001b[43m    \u001b[49m\u001b[33;43m\"\u001b[39;49m\u001b[33;43msignal\u001b[39;49m\u001b[33;43m\"\u001b[39;49m\u001b[43m:\u001b[49m\u001b[43m \u001b[49m\u001b[43msignal\u001b[49m\n\u001b[32m      6\u001b[39m \u001b[43m}\u001b[49m\u001b[43m)\u001b[49m\n",
      "\u001b[36mFile \u001b[39m\u001b[32m~/repos/bot_predictor/.venv/lib/python3.11/site-packages/flask/json/__init__.py:170\u001b[39m, in \u001b[36mjsonify\u001b[39m\u001b[34m(*args, **kwargs)\u001b[39m\n\u001b[32m    138\u001b[39m \u001b[38;5;28;01mdef\u001b[39;00m\u001b[38;5;250m \u001b[39m\u001b[34mjsonify\u001b[39m(*args: t.Any, **kwargs: t.Any) -> Response:\n\u001b[32m    139\u001b[39m \u001b[38;5;250m    \u001b[39m\u001b[33;03m\"\"\"Serialize the given arguments as JSON, and return a\u001b[39;00m\n\u001b[32m    140\u001b[39m \u001b[33;03m    :class:`~flask.Response` object with the ``application/json``\u001b[39;00m\n\u001b[32m    141\u001b[39m \u001b[33;03m    mimetype. A dict or list returned from a view will be converted to a\u001b[39;00m\n\u001b[32m   (...)\u001b[39m\u001b[32m    168\u001b[39m \u001b[33;03m    .. versionadded:: 0.2\u001b[39;00m\n\u001b[32m    169\u001b[39m \u001b[33;03m    \"\"\"\u001b[39;00m\n\u001b[32m--> \u001b[39m\u001b[32m170\u001b[39m     \u001b[38;5;28;01mreturn\u001b[39;00m \u001b[43mcurrent_app\u001b[49m\u001b[43m.\u001b[49m\u001b[43mjson\u001b[49m.response(*args, **kwargs)\n",
      "\u001b[36mFile \u001b[39m\u001b[32m~/repos/bot_predictor/.venv/lib/python3.11/site-packages/werkzeug/local.py:318\u001b[39m, in \u001b[36m_ProxyLookup.__get__\u001b[39m\u001b[34m(self, instance, owner)\u001b[39m\n\u001b[32m    315\u001b[39m     \u001b[38;5;28;01mreturn\u001b[39;00m \u001b[38;5;28mself\u001b[39m\n\u001b[32m    317\u001b[39m \u001b[38;5;28;01mtry\u001b[39;00m:\n\u001b[32m--> \u001b[39m\u001b[32m318\u001b[39m     obj = \u001b[43minstance\u001b[49m\u001b[43m.\u001b[49m\u001b[43m_get_current_object\u001b[49m\u001b[43m(\u001b[49m\u001b[43m)\u001b[49m\n\u001b[32m    319\u001b[39m \u001b[38;5;28;01mexcept\u001b[39;00m \u001b[38;5;167;01mRuntimeError\u001b[39;00m:\n\u001b[32m    320\u001b[39m     \u001b[38;5;28;01mif\u001b[39;00m \u001b[38;5;28mself\u001b[39m.fallback \u001b[38;5;129;01mis\u001b[39;00m \u001b[38;5;28;01mNone\u001b[39;00m:\n",
      "\u001b[36mFile \u001b[39m\u001b[32m~/repos/bot_predictor/.venv/lib/python3.11/site-packages/werkzeug/local.py:519\u001b[39m, in \u001b[36mLocalProxy.__init__.<locals>._get_current_object\u001b[39m\u001b[34m()\u001b[39m\n\u001b[32m    517\u001b[39m     obj = local.get()\n\u001b[32m    518\u001b[39m \u001b[38;5;28;01mexcept\u001b[39;00m \u001b[38;5;167;01mLookupError\u001b[39;00m:\n\u001b[32m--> \u001b[39m\u001b[32m519\u001b[39m     \u001b[38;5;28;01mraise\u001b[39;00m \u001b[38;5;167;01mRuntimeError\u001b[39;00m(unbound_message) \u001b[38;5;28;01mfrom\u001b[39;00m\u001b[38;5;250m \u001b[39m\u001b[38;5;28;01mNone\u001b[39;00m\n\u001b[32m    521\u001b[39m \u001b[38;5;28;01mreturn\u001b[39;00m get_name(obj)\n",
      "\u001b[31mRuntimeError\u001b[39m: Working outside of application context.\n\nThis typically means that you attempted to use functionality that needed\nthe current application. To solve this, set up an application context\nwith app.app_context(). See the documentation for more information."
     ]
    }
   ],
   "source": [
    "jsonify({\n",
    "    \"symbol\": symbol,\n",
    "    \"current_price\": f\"{current_price}\",\n",
    "    \"predicted_price\": f\"{predicted_price}\",\n",
    "    \"signal\": signal\n",
    "})"
   ]
  }
 ],
 "metadata": {
  "kernelspec": {
   "display_name": ".venv",
   "language": "python",
   "name": "python3"
  },
  "language_info": {
   "codemirror_mode": {
    "name": "ipython",
    "version": 3
   },
   "file_extension": ".py",
   "mimetype": "text/x-python",
   "name": "python",
   "nbconvert_exporter": "python",
   "pygments_lexer": "ipython3",
   "version": "3.11.7"
  }
 },
 "nbformat": 4,
 "nbformat_minor": 5
}
